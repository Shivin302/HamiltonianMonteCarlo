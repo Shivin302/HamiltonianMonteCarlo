{
 "cells": [
  {
   "cell_type": "code",
   "execution_count": 1,
   "metadata": {},
   "outputs": [],
   "source": [
    "import numpy as np\n",
    "import matplotlib.pyplot as plt"
   ]
  },
  {
   "cell_type": "code",
   "execution_count": 2,
   "metadata": {},
   "outputs": [],
   "source": [
    "q = 0\n",
    "p = 1\n",
    "\n",
    "def prob(q):\n",
    "    return np.exp(-0.5*q*q) / np.sqrt(2 * np.pi)\n",
    "\n",
    "def dprob(q):\n",
    "    return - q * np.exp(-0.5*q*q) / np.sqrt(2 * np.pi)\n",
    "\n",
    "def U(q):\n",
    "    return 0.5 *q * q + 0.5*np.log(2*np.pi)\n",
    "\n",
    "def dU(q):\n",
    "    return q\n",
    "\n",
    "def timestep_euler(q,p,eps,m):\n",
    "    q_new = q + eps*p/m\n",
    "    p_new = p - eps*dU(q)\n",
    "    return q_new, p_new\n",
    "\n",
    "def timestep_euler_mod(q,p,eps,m):\n",
    "    p_new = p - eps*dU(q)\n",
    "    q_new = q + eps*p_new/m\n",
    "    return q_new, p_new\n",
    "\n",
    "def timestep_leapfrog(q,p,eps,m):\n",
    "    p_new = p - eps*dU(q)/2\n",
    "    q_new = q + eps*p_new/m\n",
    "    p_new = p_new - eps*dU(q_new)/2\n",
    "    return q_new, p_new\n",
    "    "
   ]
  },
  {
   "cell_type": "code",
   "execution_count": 3,
   "metadata": {},
   "outputs": [],
   "source": [
    "q_next = q\n",
    "p_next = p\n",
    "eps = 0.3\n",
    "qs, ps = [], []\n",
    "for i in range(20):\n",
    "    qs.append(q_next)\n",
    "    ps.append(p_next)\n",
    "    q_next, p_next = timestep_leapfrog(q_next,p_next,eps,1)"
   ]
  },
  {
   "cell_type": "code",
   "execution_count": 4,
   "metadata": {},
   "outputs": [
    {
     "data": {
      "text/plain": [
       "<matplotlib.collections.PathCollection at 0x2739eac43c8>"
      ]
     },
     "execution_count": 4,
     "metadata": {},
     "output_type": "execute_result"
    },
    {
     "data": {
      "image/png": "[encoded data removed]",
      "text/plain": [
       "<Figure size 432x288 with 1 Axes>"
      ]
     },
     "metadata": {
      "needs_background": "light"
     },
     "output_type": "display_data"
    }
   ],
   "source": [
    "plt.scatter(qs,ps)"
   ]
  },
  {
   "cell_type": "code",
   "execution_count": null,
   "metadata": {},
   "outputs": [],
   "source": []
  },
  {
   "cell_type": "code",
   "execution_count": 5,
   "metadata": {},
   "outputs": [],
   "source": [
    "def U(q,cov):\n",
    "    return 0.5 * q @ (np.linalg.pinv(cov) @ q)\n",
    "\n",
    "def dU(q):\n",
    "    return np.linalg.pinv(cov) @ q\n",
    "\n",
    "def K(p,m=1):\n",
    "    return np.sum(p*p/m)/2\n",
    "\n",
    "def timestep_leapfrog(q,p,eps,m):\n",
    "    p_new = p - eps*dU(q)/2\n",
    "    q_new = q + eps*p_new/m\n",
    "    p_new = p_new - eps*dU(q_new)/2\n",
    "    return q_new, p_new\n",
    "\n",
    "def HMC_Proposal(q_curr,p_curr,L,eps):\n",
    "    q_new,p_new = q_curr, p_curr\n",
    "    for i in range(L):\n",
    "        q_new, p_new = timestep_leapfrog(q_new,p_new,eps,1)\n",
    "    return q, p\n",
    "\n",
    "def acceptance(q_curr,p_curr,q_new,p_new):\n",
    "    prob = np.exp(U(q_curr) + K(p_curr) - U(q_new) - K(p_new))\n",
    "    return prob"
   ]
  },
  {
   "cell_type": "code",
   "execution_count": null,
   "metadata": {},
   "outputs": [],
   "source": []
  }
 ],
 "metadata": {
  "kernelspec": {
   "display_name": "Python 3",
   "language": "python",
   "name": "python3"
  },
  "language_info": {
   "codemirror_mode": {
    "name": "ipython",
    "version": 3
   },
   "file_extension": ".py",
   "mimetype": "text/x-python",
   "name": "python",
   "nbconvert_exporter": "python",
   "pygments_lexer": "ipython3",
   "version": "3.7.3"
  }
 },
 "nbformat": 4,
 "nbformat_minor": 2
}
