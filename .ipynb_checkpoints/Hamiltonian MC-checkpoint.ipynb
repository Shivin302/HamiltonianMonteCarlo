{
 "cells": [
  {
   "cell_type": "code",
   "execution_count": 1,
   "metadata": {},
   "outputs": [],
   "source": [
    "import numpy as np\n",
    "import matplotlib.pyplot as plt"
   ]
  },
  {
   "cell_type": "code",
   "execution_count": 2,
   "metadata": {},
   "outputs": [],
   "source": [
    "q = 0\n",
    "p = 1\n",
    "\n",
    "def prob(q):\n",
    "    return np.exp(-0.5*q*q) / np.sqrt(2 * np.pi)\n",
    "\n",
    "def dprob(q):\n",
    "    return - q * np.exp(-0.5*q*q) / np.sqrt(2 * np.pi)\n",
    "\n",
    "def U(q):\n",
    "    return 0.5 *q * q + 0.5*np.log(2*np.pi)\n",
    "\n",
    "def dU(q):\n",
    "    return q\n",
    "\n",
    "def timestep_euler(q,p,eps,m):\n",
    "    q_new = q + eps*p/m\n",
    "    p_new = p - eps*dU(q)\n",
    "    return q_new, p_new\n",
    "\n",
    "def timestep_euler_mod(q,p,eps,m):\n",
    "    p_new = p - eps*dU(q)\n",
    "    q_new = q + eps*p_new/m\n",
    "    return q_new, p_new\n",
    "\n",
    "def timestep_leapfrog(q,p,eps,m):\n",
    "    p_new = p - eps*dU(q)/2\n",
    "    q_new = q + eps*p_new/m\n",
    "    p_new = p_new - eps*dU(q_new)/2\n",
    "    return q_new, p_new\n",
    "    "
   ]
  },
  {
   "cell_type": "code",
   "execution_count": 3,
   "metadata": {},
   "outputs": [],
   "source": [
    "q_next = q\n",
    "p_next = p\n",
    "eps = 0.3\n",
    "qs, ps = [], []\n",
    "for i in range(20):\n",
    "    qs.append(q_next)\n",
    "    ps.append(p_next)\n",
    "    q_next, p_next = timestep_leapfrog(q_next,p_next,eps,1)"
   ]
  },
  {
   "cell_type": "code",
   "execution_count": 4,
   "metadata": {},
   "outputs": [
    {
     "data": {
      "text/plain": [
       "<matplotlib.collections.PathCollection at 0x1cb8d40e898>"
      ]
     },
     "execution_count": 4,
     "metadata": {},
     "output_type": "execute_result"
    },
    {
     "data": {
      "image/png": "[encoded data removed]",
      "text/plain": [
       "<Figure size 432x288 with 1 Axes>"
      ]
     },
     "metadata": {
      "needs_background": "light"
     },
     "output_type": "display_data"
    }
   ],
   "source": [
    "plt.scatter(qs,ps)"
   ]
  },
  {
   "cell_type": "markdown",
   "metadata": {},
   "source": [
    "# Hamiltonian MC"
   ]
  },
  {
   "cell_type": "code",
   "execution_count": 42,
   "metadata": {},
   "outputs": [],
   "source": [
    "def HMC_init(d):\n",
    "#     return np.zeros(d), np.ones(d)\n",
    "    return np.array([-1.5,-1.55]), np.array([-1,1])\n",
    "\n",
    "def U(q,cov):\n",
    "    return 0.5 * q @ (np.linalg.pinv(cov) @ q)\n",
    "\n",
    "def dU(q,cov):\n",
    "    return np.linalg.pinv(cov) @ q\n",
    "\n",
    "def K(p,m=1):\n",
    "    return np.sum(p*p/m)/2\n",
    "\n",
    "def timestep_leapfrog(q,p,cov,eps,m):\n",
    "    p_new = p - eps*dU(q,cov)/2\n",
    "    q_new = q + eps*p_new/m\n",
    "    p_new = p_new - eps*dU(q_new,cov)/2\n",
    "    return q_new, p_new\n",
    "\n",
    "def HMC_Proposal(q_curr,cov,L,eps):\n",
    "    d = len(q_curr)\n",
    "    p_curr = np.random.multivariate_normal(np.zeros(d), np.eye(d))\n",
    "    q_new, p_new = q_curr, p_curr\n",
    "    for i in range(L):\n",
    "        q_new, p_new = timestep_leapfrog(q_new,p_new,cov,eps,1)\n",
    "    p_new = - p_new\n",
    "    return q_new, p_new\n",
    "\n",
    "def HMC_Proposal_Neal(q,cov,L,eps):\n",
    "    d = len(q)\n",
    "    p = np.random.multivariate_normal(np.zeros(d), np.eye(d))\n",
    "    p = p - eps*dU(q,cov)/2\n",
    "    for i in range(L):\n",
    "        q = q + eps*p/1\n",
    "        if i != L-1:\n",
    "            p = p - eps*dU(q,cov)\n",
    "    p = p - eps*dU(q,cov)/2\n",
    "    p = - p\n",
    "    return q, p\n",
    "\n",
    "\n",
    "def HMC_Acceptance(q_curr,p_curr,q_new,p_new, cov):\n",
    "    prob = np.exp(U(q_curr, cov) + K(p_curr) - U(q_new, cov) - K(p_new))\n",
    "    return prob"
   ]
  },
  {
   "cell_type": "code",
   "execution_count": 43,
   "metadata": {},
   "outputs": [],
   "source": [
    "def HamiltonMC(proposal_func, init_func, d, acceptance_func, cov, num_iters=1000, L=30, eps=0.15):\n",
    "    \"\"\"\n",
    "    Runs the metropolis-hastings algorithm for\n",
    "    num_iters iterations, using proposal_func\n",
    "    to generate samples and scorer to assign\n",
    "    probability scores to samples.\n",
    "\n",
    "    proposal_func -- function that proposes\n",
    "    candidate state; takes in current state as\n",
    "    argument and returns candidate state\n",
    "    init_func -- function that proposes starting\n",
    "    state; takes no arguments and returns a\n",
    "    sample state\n",
    "    score_func -- function that calculates f(y)/f(x)\n",
    "    * g(y,x)/g(x,y); takes in two state samples\n",
    "    (the current sample x then the candidate y).\n",
    "\n",
    "    Returns a sequence of every step-th sample. You\n",
    "    should only sample on upon acceptance of a new\n",
    "    proposal. Do not keep sampling the current state.\n",
    "\n",
    "    Note the total number of samples will NOT be\n",
    "    equal to num_iters. num_iters is the total number\n",
    "    of proposals we generate.\n",
    "    \"\"\"\n",
    "    # TODO\n",
    "    qs,ps = [], []\n",
    "    q, p = init_func(d)\n",
    "    for i in range(num_iters):\n",
    "        q_new, p_new = proposal_func(q, cov, L, eps)\n",
    "        if np.random.uniform() < acceptance_func(p, q, q_new, p_new, cov):\n",
    "            qs.append(q), ps.append(p)\n",
    "            q, p = q_new, p_new\n",
    "    return qs, ps\n",
    "#     return samples"
   ]
  },
  {
   "cell_type": "code",
   "execution_count": 44,
   "metadata": {},
   "outputs": [
    {
     "data": {
      "text/plain": [
       "array([[1.  , 0.95],\n",
       "       [0.95, 1.  ]])"
      ]
     },
     "execution_count": 44,
     "metadata": {},
     "output_type": "execute_result"
    }
   ],
   "source": [
    "cov = np.array([[1,0.95],[0.95,1]])\n",
    "cov"
   ]
  },
  {
   "cell_type": "code",
   "execution_count": 48,
   "metadata": {},
   "outputs": [],
   "source": [
    "qs, ps = HamiltonMC(HMC_Proposal_Neal, HMC_init, 2, HMC_Acceptance, cov, 25, 25, 0.25)"
   ]
  },
  {
   "cell_type": "code",
   "execution_count": 49,
   "metadata": {},
   "outputs": [
    {
     "data": {
      "text/plain": [
       "<matplotlib.collections.PathCollection at 0x1cb911613c8>"
      ]
     },
     "execution_count": 49,
     "metadata": {},
     "output_type": "execute_result"
    },
    {
     "data": {
      "image/png": "[encoded data removed]",
      "text/plain": [
       "<Figure size 432x288 with 1 Axes>"
      ]
     },
     "metadata": {
      "needs_background": "light"
     },
     "output_type": "display_data"
    }
   ],
   "source": [
    "qs, ps = np.array(qs), np.array(ps)\n",
    "plt.scatter(qs[:,0],qs[:,1])"
   ]
  },
  {
   "cell_type": "code",
   "execution_count": 50,
   "metadata": {},
   "outputs": [
    {
     "data": {
      "text/plain": [
       "<matplotlib.collections.PathCollection at 0x1cb91850320>"
      ]
     },
     "execution_count": 50,
     "metadata": {},
     "output_type": "execute_result"
    },
    {
     "data": {
      "image/png": "[encoded data removed]",
      "text/plain": [
       "<Figure size 432x288 with 1 Axes>"
      ]
     },
     "metadata": {
      "needs_background": "light"
     },
     "output_type": "display_data"
    }
   ],
   "source": [
    "plt.scatter(ps[:,0],ps[:,1])"
   ]
  },
  {
   "cell_type": "markdown",
   "metadata": {},
   "source": [
    "# Gas Implementation (MH version)"
   ]
  },
  {
   "cell_type": "code",
   "execution_count": 58,
   "metadata": {},
   "outputs": [
    {
     "name": "stdout",
     "output_type": "stream",
     "text": [
      "Find nearest test:\n",
      " 4\n",
      "[-0.84232247  0.01731334  0.22920544]\n"
     ]
    }
   ],
   "source": [
    "import numpy as np\n",
    "import scipy.constants as const\n",
    "# mesh/array (3d)\n",
    "\n",
    "k = const.k\n",
    "# Make init velocities determined by temp\n",
    "T = 300 #Kelvin\n",
    "N = 2 # number of particles along a certain axis\n",
    "\n",
    "def init_pos(N):\n",
    "    X = np.linspace(0, (N-1)/N, num=N)\n",
    "    Y = np.linspace(0, (N-1)/N, num=N)\n",
    "    Z = np.linspace(0, (N-1)/N, num=N)\n",
    "    Xg, Yg, Zg = np.meshgrid(X, Y, Z)\n",
    "    return (Xg, Yg, Zg)\n",
    "\n",
    "ps = init_pos(2)\n",
    "\n",
    "def find_nearest(point_index, positions):\n",
    "    # positions: tuple of grids\n",
    "    assert point_index < N**3\n",
    "    xx = positions[0]\n",
    "    yy = positions[1]\n",
    "    zz = positions[2]\n",
    "    tuple_index = np.unravel_index(point_index, xx.shape)\n",
    "    point_x = xx[tuple_index]\n",
    "    point_y = yy[tuple_index]\n",
    "    point_z = zz[tuple_index]\n",
    "    deltaX = periodic_distance_difference(point_x, xx)\n",
    "    deltaY = periodic_distance_difference(point_y, yy)\n",
    "    deltaZ = periodic_distance_difference(point_z, zz)\n",
    "    dist = np.square(deltaX)\n",
    "    dist = dist + np.square(deltaY)\n",
    "    dist = dist + np.square(deltaZ)\n",
    "    # Since a point itself will have the smallest (0 distance), we take the second of the smallest points\n",
    "    # TODO - implement the line below (so it's not always itself)\n",
    "    #dist[np.ravel_multi_index(tuple_index.T, xx.shape)] = 100 \n",
    "    return np.argmin(dist)\n",
    "\n",
    "def periodic_distance_difference(coordinate, coordinate_grid):\n",
    "    # Returns a mesh-grid like output of the periodic minimum delta\n",
    "    delta = np.abs(coordinate_grid - coordinate * np.ones_like(coordinate_grid))\n",
    "    return np.minimum(np.ones_like(delta)-delta, delta)\n",
    "\n",
    "#print(\"periodic test\\n\", periodic_distance_difference(0.3, ps[0]))\n",
    "\n",
    "print(\"Find nearest test:\\n\", find_nearest(4, init_pos(2)))\n",
    "\n",
    "# proposal step size distance\n",
    "alpha = 0.5\n",
    "\n",
    "# Implement Matteo's proposal method:\n",
    "# Move first particle, compute potential, accept/reject\n",
    "# Move second particle, as if first particle hasn't moved, accept/reject\n",
    "# ... All particles move indepenently of each other\n",
    "\n",
    "# Implement a proposal method that uses the previous accepted state (path traversal in trajectory space)\n",
    "\n",
    "\n",
    "def propose(dE, shape):\n",
    "    # dE: function of configuration\n",
    "    for i in range(N**3):\n",
    "        xx_new = positions[0][:::]\n",
    "        yy_new = positions[1][:::]\n",
    "        zz_new = positions[2][:::]\n",
    "        peturb = alpha * np.random.uniform(low=-1, high=1, size=3)\n",
    "        tuple_index = np.unravel_index(i, xx.shape)\n",
    "        xx[tuple_index] = xx[tuple_index] \n",
    "        \n",
    "        find_nearest(i, proposed_positions)\n",
    "    if np.random.uniform() < max(np.exp(-dE/k/T), 1):\n",
    "        return 0# accept/move\n",
    "    else:\n",
    "        return 0# add current state to list again"
   ]
  },
  {
   "cell_type": "code",
   "execution_count": null,
   "metadata": {},
   "outputs": [],
   "source": []
  }
 ],
 "metadata": {
  "kernelspec": {
   "display_name": "Python 3",
   "language": "python",
   "name": "python3"
  },
  "language_info": {
   "codemirror_mode": {
    "name": "ipython",
    "version": 3
   },
   "file_extension": ".py",
   "mimetype": "text/x-python",
   "name": "python",
   "nbconvert_exporter": "python",
   "pygments_lexer": "ipython3",
   "version": "3.7.5"
  }
 },
 "nbformat": 4,
 "nbformat_minor": 2
}
